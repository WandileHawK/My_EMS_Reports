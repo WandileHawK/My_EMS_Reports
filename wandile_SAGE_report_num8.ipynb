{
 "cells": [
  {
   "cell_type": "markdown",
   "id": "intellectual-vegetation",
   "metadata": {},
   "source": [
    "### Report 8"
   ]
  },
  {
   "cell_type": "markdown",
   "id": "preceding-resistance",
   "metadata": {},
   "source": [
    "***Practical 3**"
   ]
  },
  {
   "cell_type": "markdown",
   "id": "material-mission",
   "metadata": {},
   "source": [
    "So we want to find the sequence of $(U_{n})_{n \\in \\mathbb{N}}$  where  \n",
    "\n",
    "$U_{0} = \\frac{3}{2}$, $\\hspace{1cm}$  $U_{1} = \\frac{5}{3}$  and $\\hspace{1cm}$  $ U_{n} = 1+\\frac{4U_{n-2}-1}{U_{n-1}U_{n-2}}$   "
   ]
  },
  {
   "cell_type": "markdown",
   "id": "integral-wealth",
   "metadata": {},
   "source": [
    "Whenwe first compute the first numbers of this recursion we get:"
   ]
  },
  {
   "cell_type": "markdown",
   "id": "metallic-evening",
   "metadata": {},
   "source": [
    "<font size=2>Given that  $U_{0}={\\frac{3}{2}}$ and $U_{1}={\\frac{5}{3}}$\n",
    "<br>\n",
    "    <br>\n",
    "for n=2, $U_{2}=1+4 \\hspace{1cm}   \\frac{U_{0}-1}{U_{1}U_{0}}=1+4*\\frac{(\\frac{3}{2})-1}{(\\frac{5}{3})*(\\frac{3}{2})}=\\frac{9}{5}$\n",
    "<br>\n",
    "    <br>\n",
    "for n=3, $U_{3}=1+4  \\hspace{1cm}   \\frac{U_{1}-1}{U_{2}U_{1}}=1+4*\\frac{(\\frac{5}{3})-1}{(\\frac{9}{5})*(\\frac{5}{3})}=\\frac{17}{9}$\n",
    "    <br>\n",
    "    <br>\n",
    "for n=4, $U_{4}=1+4  \\hspace{1cm}  \\frac{U_{2}-1}{U_{3}U_{2}}=1+4*\\frac{(\\frac{9}{5})-1}{(\\frac{17}{9})*(\\frac{9}{5})}=\\frac{33}{17}$\n",
    "<br>\n",
    "    <br>\n",
    "    for n=5, $U_{5}=1+4 \\hspace{1cm}   \\frac{U_{3}-1}{U_{4}U_{3}}=1+4*\\frac{(\\frac{17}{9})-1}{(\\frac{33}{17})*(\\frac{17}{9})}=\\frac{65}{33}$\n",
    "    <br>\n",
    "    <br>\n",
    "    for n=6, $U_{6}=1+4  \\hspace{1cm}  \\frac{U_{4}-1}{U_{5}U_{4}}=1+4*\\frac{(\\frac{33}{17})-1}{(\\frac{65}{33})*(\\frac{33}{17})}=\\frac{129}{65}$"
   ]
  },
  {
   "cell_type": "markdown",
   "id": "widespread-wedding",
   "metadata": {},
   "source": [
    "This code for the rercussion is given by"
   ]
  },
  {
   "cell_type": "code",
   "execution_count": 31,
   "id": "excited-accountability",
   "metadata": {},
   "outputs": [
    {
     "name": "stdout",
     "output_type": "stream",
     "text": [
      "Enter any number: 5\n"
     ]
    },
    {
     "data": {
      "text/html": [
       "<html><script type=\"math/tex; mode=display\">\\newcommand{\\Bold}[1]{\\mathbf{#1}}\\verb|The|\\phantom{\\verb!x!}\\verb|number|\\phantom{\\verb!x!}\\verb|produced|\\phantom{\\verb!x!}\\verb|by|\\phantom{\\verb!xx!}\\verb|the|\\phantom{\\verb!xx!}\\verb|is|\\phantom{\\verb!x!}\\verb|the|\\phantom{\\verb!x!}\\verb|formula|\\phantom{\\verb!xx!}\\verb|\t| \\frac{5}{3}</script></html>"
      ],
      "text/latex": [
       "\\begin{math}\n",
       "\\newcommand{\\Bold}[1]{\\mathbf{#1}}\\verb|The|\\phantom{\\verb!x!}\\verb|number|\\phantom{\\verb!x!}\\verb|produced|\\phantom{\\verb!x!}\\verb|by|\\phantom{\\verb!xx!}\\verb|the|\\phantom{\\verb!xx!}\\verb|is|\\phantom{\\verb!x!}\\verb|the|\\phantom{\\verb!x!}\\verb|formula|\\phantom{\\verb!xx!}\\verb|\t| \\frac{5}{3}\n",
       "\\end{math}"
      ],
      "text/plain": [
       "'The number produced by  the  is the formula  \\t' 5/3"
      ]
     },
     "metadata": {},
     "output_type": "display_data"
    },
    {
     "data": {
      "text/html": [
       "<html><script type=\"math/tex; mode=display\">\\newcommand{\\Bold}[1]{\\mathbf{#1}}\\verb|The|\\phantom{\\verb!x!}\\verb|number|\\phantom{\\verb!x!}\\verb|produced|\\phantom{\\verb!x!}\\verb|by|\\phantom{\\verb!xx!}\\verb|the|\\phantom{\\verb!xx!}\\verb|is|\\phantom{\\verb!x!}\\verb|the|\\phantom{\\verb!x!}\\verb|formula|\\phantom{\\verb!xx!}\\verb|\t| \\frac{9}{5}</script></html>"
      ],
      "text/latex": [
       "\\begin{math}\n",
       "\\newcommand{\\Bold}[1]{\\mathbf{#1}}\\verb|The|\\phantom{\\verb!x!}\\verb|number|\\phantom{\\verb!x!}\\verb|produced|\\phantom{\\verb!x!}\\verb|by|\\phantom{\\verb!xx!}\\verb|the|\\phantom{\\verb!xx!}\\verb|is|\\phantom{\\verb!x!}\\verb|the|\\phantom{\\verb!x!}\\verb|formula|\\phantom{\\verb!xx!}\\verb|\t| \\frac{9}{5}\n",
       "\\end{math}"
      ],
      "text/plain": [
       "'The number produced by  the  is the formula  \\t' 9/5"
      ]
     },
     "metadata": {},
     "output_type": "display_data"
    },
    {
     "data": {
      "text/html": [
       "<html><script type=\"math/tex; mode=display\">\\newcommand{\\Bold}[1]{\\mathbf{#1}}\\verb|The|\\phantom{\\verb!x!}\\verb|number|\\phantom{\\verb!x!}\\verb|produced|\\phantom{\\verb!x!}\\verb|by|\\phantom{\\verb!xx!}\\verb|the|\\phantom{\\verb!xx!}\\verb|is|\\phantom{\\verb!x!}\\verb|the|\\phantom{\\verb!x!}\\verb|formula|\\phantom{\\verb!xx!}\\verb|\t| \\frac{17}{9}</script></html>"
      ],
      "text/latex": [
       "\\begin{math}\n",
       "\\newcommand{\\Bold}[1]{\\mathbf{#1}}\\verb|The|\\phantom{\\verb!x!}\\verb|number|\\phantom{\\verb!x!}\\verb|produced|\\phantom{\\verb!x!}\\verb|by|\\phantom{\\verb!xx!}\\verb|the|\\phantom{\\verb!xx!}\\verb|is|\\phantom{\\verb!x!}\\verb|the|\\phantom{\\verb!x!}\\verb|formula|\\phantom{\\verb!xx!}\\verb|\t| \\frac{17}{9}\n",
       "\\end{math}"
      ],
      "text/plain": [
       "'The number produced by  the  is the formula  \\t' 17/9"
      ]
     },
     "metadata": {},
     "output_type": "display_data"
    },
    {
     "data": {
      "text/html": [
       "<html><script type=\"math/tex; mode=display\">\\newcommand{\\Bold}[1]{\\mathbf{#1}}\\verb|The|\\phantom{\\verb!x!}\\verb|number|\\phantom{\\verb!x!}\\verb|produced|\\phantom{\\verb!x!}\\verb|by|\\phantom{\\verb!xx!}\\verb|the|\\phantom{\\verb!xx!}\\verb|is|\\phantom{\\verb!x!}\\verb|the|\\phantom{\\verb!x!}\\verb|formula|\\phantom{\\verb!xx!}\\verb|\t| \\frac{33}{17}</script></html>"
      ],
      "text/latex": [
       "\\begin{math}\n",
       "\\newcommand{\\Bold}[1]{\\mathbf{#1}}\\verb|The|\\phantom{\\verb!x!}\\verb|number|\\phantom{\\verb!x!}\\verb|produced|\\phantom{\\verb!x!}\\verb|by|\\phantom{\\verb!xx!}\\verb|the|\\phantom{\\verb!xx!}\\verb|is|\\phantom{\\verb!x!}\\verb|the|\\phantom{\\verb!x!}\\verb|formula|\\phantom{\\verb!xx!}\\verb|\t| \\frac{33}{17}\n",
       "\\end{math}"
      ],
      "text/plain": [
       "'The number produced by  the  is the formula  \\t' 33/17"
      ]
     },
     "metadata": {},
     "output_type": "display_data"
    }
   ],
   "source": [
    "from fractions import Fraction\n",
    "numb =  int(input(\"Enter any number: \"))\n",
    "def Recursio_(n):\n",
    "    if n==0:\n",
    "        return 3/2\n",
    "    elif n==1:\n",
    "        return 5/3\n",
    "    else:\n",
    "        return 1+ 4*(Recursio_(n-2)-1)/( Recursio_(n-1)* Recursio_(n-2))\n",
    "    \n",
    "Recursio_(9)\n",
    "     \n",
    "List_1 = []\n",
    "\n",
    "for x in range(1,numb):\n",
    "    show(\"The number produced by  the  is the formula  \\t\",Recursio_(x))\n",
    "    List_1.append(num)\n"
   ]
  },
  {
   "cell_type": "markdown",
   "id": "cultural-display",
   "metadata": {},
   "source": [
    "The $\\textbf{conjecture}$ for this numbers is : $U_{n} =\\frac{2^{n+1}+1}{2^{n}+1}$"
   ]
  },
  {
   "cell_type": "markdown",
   "id": "thick-technical",
   "metadata": {},
   "source": [
    "\n",
    "\n",
    "\n",
    "The proof for the conjecture \n",
    "\n",
    "The general formulae for is;\n",
    "\n",
    "$\\hspace{3cm}$ <font size=3>$U_{n}=1+4 \\frac{U_{n-2}-1}{U_{n-1}U_{n-2}}$...........1\n",
    "    \n",
    "    \n",
    "We can express (1) as  $U_{n+1}$  when $n= n+1$  as follows;\n",
    "       \n",
    "$\\hspace{3cm}$$U_{n+1}=1+4 \\frac{U_{n-1}-1}{U_{n}U_{n-1}}$\n",
    "\n",
    "From the our conjecture $ \\hspace{1cm}$    $U_{n}=\\frac{2^{n+1}+1}{2^{n}+1}$\n",
    "    \n",
    "    \n",
    "We can find $ \\hspace{0.5cm}$    $U_{n-1}$   as\n",
    "\n",
    "   \n",
    " $\\hspace{3cm}$      $U_{n-1}=\\frac{2^{n}+1}{2^{n-1}+1}$\n",
    "  \n",
    "Now substitution yields;\n",
    "\n",
    "\n",
    "    \n",
    "$U_{n+1}=1+4* \\frac{\\frac{2^{n}+1}{2^{n-1}+1}-1}{\\frac{2^{n+1}+1}{2^{n}+1}*\\frac{2^{n-1}+1}{2^{n-1}-1}}$\n",
    "\n",
    "    \n",
    "    \n",
    "    \n",
    "Can be simpified as $ \\hspace{0.5cm}$   $U_{n+1}=1+\\frac{2^{n+2}-{2^{n+1}}}{{2^{n+1}}+1}$\n",
    "  \n",
    "Giving  $ \\hspace{0.5cm}$    $U_{n+1}=\\frac{2^{n+2}+1}{2^{n+1}+1}$\n",
    "    \n",
    "Proved that $U_{n+1}=\\frac{2^{n+2}+1}{2^{n+1}+1}$ and so by recursion it implies that\\\n",
    "    <br>\n",
    "    $U_{n}=\\frac{2^{n+1}+1}{2^{n}+1}$\n",
    "\n",
    "       "
   ]
  },
  {
   "cell_type": "markdown",
   "id": "stock-sequence",
   "metadata": {},
   "source": [
    "#### Exploration 10 <a class=\"anchor\" id=\"exploration-10\"></a> \n",
    "\n",
    "The question to explore is: \n",
    "\n",
    " * _Can even/odd numbers modulo 3, modulo 4, modulo 5, etc., be written as a sum of two squares and if so, do they follow some underlying pattern?_"
   ]
  },
  {
   "cell_type": "code",
   "execution_count": null,
   "id": "weekly-whale",
   "metadata": {},
   "outputs": [],
   "source": [
    "n=int(input(\"Enter the modulo number:\"))\n",
    "dict_1={}\n",
    "dict_2={}\n",
    "high_limit = 100\n",
    "for x in range(1,high_limit+1):\n",
    "    list_1=[]\n",
    "    list_2=[]\n",
    "    if x%2 ==0:\n",
    "        if (x%n) ==0:\n",
    "            for b in range(1,high_limit+1):\n",
    "                for a in range(1,high_limit+1):\n",
    "                    if a^2+b^2==x:\n",
    "                        list_1.append((a,b))            \n",
    "                        dict_1[(x)]=list_1                            \n",
    "                            \n",
    "    else:\n",
    "        if (x%n) ==0:\n",
    "            for w in range(1,high_limit+1):\n",
    "                for f in range(1,high_limit+1):\n",
    "                    if w^2+f^2==x:\n",
    "                        list_2.append((w,f))                                \n",
    "                        dict_2[(x)]=list_2\n",
    "\n",
    "show(\"The even  numbers divisible by \\t\",n,\" \\t are \\t\",dict_1)            \n",
    "show(\"The odd  numbers divisible by \\t\",n,\" \\t are \\t\",dict_2)\n",
    "\n",
    "\n",
    "    \n",
    "                                 "
   ]
  },
  {
   "cell_type": "code",
   "execution_count": null,
   "id": "federal-success",
   "metadata": {},
   "outputs": [],
   "source": []
  }
 ],
 "metadata": {
  "kernelspec": {
   "display_name": "SageMath 9.2",
   "language": "sage",
   "name": "sagemath"
  },
  "language_info": {
   "codemirror_mode": {
    "name": "ipython",
    "version": 3
   },
   "file_extension": ".py",
   "mimetype": "text/x-python",
   "name": "python",
   "nbconvert_exporter": "python",
   "pygments_lexer": "ipython3",
   "version": "3.9.2"
  }
 },
 "nbformat": 4,
 "nbformat_minor": 5
}
