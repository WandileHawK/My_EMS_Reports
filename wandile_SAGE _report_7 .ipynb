{
 "cells": [
  {
   "cell_type": "markdown",
   "id": "df31f1ba",
   "metadata": {},
   "source": [
    "## REPORT 7\n"
   ]
  },
  {
   "cell_type": "markdown",
   "id": "978bacf7",
   "metadata": {},
   "source": [
    "The question was to generate the first  10 numbers in fibonacci sequence. The following code does the following:"
   ]
  },
  {
   "cell_type": "code",
   "execution_count": 16,
   "id": "f3e34ccc",
   "metadata": {},
   "outputs": [
    {
     "name": "stdout",
     "output_type": "stream",
     "text": [
      "Enter any number: 8\n",
      "[1, 1, 2, 3, 5, 8, 13]\n"
     ]
    }
   ],
   "source": [
    "\n",
    "numb =  int(input(\"Enter any number: \"))\n",
    "def Fibonacci_nu(n):\n",
    "    if n== 1:\n",
    "         return 1\n",
    "    elif n == 2:\n",
    "         return 1\n",
    "    elif n == 0:\n",
    "         return 0\n",
    "        \n",
    "     \n",
    "    else:\n",
    "        return Fibonacci_nu(n-1) +Fibonacci_nu(n-2)\n",
    "    \n",
    "List_1 = []\n",
    "for x in range(1,numb):\n",
    "    num = Fibonacci_nu(x)\n",
    "    List_1.append(num)\n",
    "    \n",
    "    \n",
    "print(List_1)   "
   ]
  },
  {
   "cell_type": "code",
   "execution_count": null,
   "id": "efficient-store",
   "metadata": {},
   "outputs": [],
   "source": []
  },
  {
   "cell_type": "markdown",
   "id": "96bd2757",
   "metadata": {},
   "source": [
    "To find the equation in  terms of the form $F_n =c(\\phi^n-\\psi^n)$   where $\\phi, \\psi ,c  \\in \\mathbb{R}$ that works for all the all fibonacci numbers\n",
    "\n",
    "were we have  $G_n =\\phi ^n$, and   $G_n = G_{n-1} +G_{n-2}$.\n",
    "\n",
    "The equation we can create start form \n",
    "\n",
    "$ G_n =\\phi ^n$\n",
    "\n",
    "$\\phi ^n = \\phi^{n-1}+ \\phi^{n-2}  $ dividing by $\\phi^{n-2}$ everythin we get this \n",
    "\n",
    "\n",
    "$\\phi^n = \\phi^{n-2}( \\phi + 1 )$\n",
    "\n",
    "\n",
    "$\\phi^2 = \\phi +1$\n",
    "\n",
    "\n",
    "When you solve this eqaution we get the following using sage solve function is:\n",
    "\n",
    "  \n"
   ]
  },
  {
   "cell_type": "code",
   "execution_count": 15,
   "id": "31a391d5",
   "metadata": {},
   "outputs": [
    {
     "data": {
      "text/html": [
       "<html>\\(\\displaystyle \\left[\\phi = -\\frac{1}{2} \\, \\sqrt{5} + \\frac{1}{2}, \\phi = \\frac{1}{2} \\, \\sqrt{5} + \\frac{1}{2}\\right]\\)</html>"
      ],
      "text/latex": [
       "$\\displaystyle \\left[\\phi = -\\frac{1}{2} \\, \\sqrt{5} + \\frac{1}{2}, \\phi = \\frac{1}{2} \\, \\sqrt{5} + \\frac{1}{2}\\right]$"
      ],
      "text/plain": [
       "[phi == -1/2*sqrt(5) + 1/2, phi == 1/2*sqrt(5) + 1/2]"
      ]
     },
     "metadata": {},
     "output_type": "display_data"
    }
   ],
   "source": [
    "#The  phi is replaced by x  is this code\n",
    "phi,psi =var( \"phi psi\")\n",
    "\n",
    "qaudr =phi^2 -phi -1\n",
    "soln = solve(qaudr,phi)\n",
    "\n",
    "LIST = [] \n",
    "for phi in soln:\n",
    "    LIST.append(phi)\n",
    "    \n",
    "show(LIST)   "
   ]
  },
  {
   "cell_type": "markdown",
   "id": "db14f145",
   "metadata": {},
   "source": [
    " The solution is  $ \\phi = \\frac{1+ \\sqrt{5}}{2}$ and  $ \\phi = \\frac{1- \\sqrt{5}}{2}$ "
   ]
  },
  {
   "cell_type": "markdown",
   "id": "7c190f44",
   "metadata": {},
   "source": [
    "Since we know that  $F_{1} = 1$ where n = 1, we can have this formulae\n",
    "\n",
    "\n",
    "$n = 1  \\hspace{2cm} $  \n",
    "\n",
    "\n",
    "$1 = c(\\phi-\\psi)$\\..............................1\n",
    "\n",
    "n= 2\n",
    "\n",
    "\n",
    "$1= c(\\phi -\\psi)(\\phi +\\psi)$......................2\n",
    "\n",
    "The second  equation is to deduce this  \n",
    "$ c(\\phi -\\psi) = 1$\\\n",
    "$(\\phi +\\psi) =1$\n",
    "\n"
   ]
  },
  {
   "cell_type": "code",
   "execution_count": 14,
   "id": "efcf8258",
   "metadata": {},
   "outputs": [
    {
     "data": {
      "text/html": [
       "<html>\\(\\displaystyle \\verb|When|\\verb| |\\verb|solve|\\verb| |\\verb|the|\\verb| |\\verb|eqaution| \\left[\\psi = \\frac{1}{2} \\, \\sqrt{5} + \\frac{1}{2}\\right]\\)</html>"
      ],
      "text/latex": [
       "$\\displaystyle \\verb|When|\\verb| |\\verb|solve|\\verb| |\\verb|the|\\verb| |\\verb|eqaution| \\left[\\psi = \\frac{1}{2} \\, \\sqrt{5} + \\frac{1}{2}\\right]$"
      ],
      "text/plain": [
       "'When solve the eqaution ' [psi == 1/2*sqrt(5) + 1/2]"
      ]
     },
     "metadata": {},
     "output_type": "display_data"
    },
    {
     "data": {
      "text/html": [
       "<html>\\(\\displaystyle \\verb|When|\\verb| |\\verb|solve|\\verb| |\\verb|the|\\verb| |\\verb|eqaution| \\left[\\psi = -\\frac{1}{2} \\, \\sqrt{5} + \\frac{1}{2}\\right]\\)</html>"
      ],
      "text/latex": [
       "$\\displaystyle \\verb|When|\\verb| |\\verb|solve|\\verb| |\\verb|the|\\verb| |\\verb|eqaution| \\left[\\psi = -\\frac{1}{2} \\, \\sqrt{5} + \\frac{1}{2}\\right]$"
      ],
      "text/plain": [
       "'When solve the eqaution ' [psi == -1/2*sqrt(5) + 1/2]"
      ]
     },
     "metadata": {},
     "output_type": "display_data"
    }
   ],
   "source": [
    "#since  we know  that phi  can solve this equations for psi and c\n",
    "phi,psi =var( \"phi psi\")\n",
    "\n",
    "phi_lis = [-1/2*sqrt(5) + 1/2, 1/2*sqrt(5) + 1/2]\n",
    "List = []\n",
    "for phi in phi_lis:\n",
    "    show(\"When solve the eqaution \",solve(phi+psi==1,psi))\n",
    "\n",
    " "
   ]
  },
  {
   "cell_type": "markdown",
   "id": "following-speaking",
   "metadata": {},
   "source": [
    "\n",
    "\n",
    "$\\psi = \\frac{\\sqrt{5}+1}{2}$   or  $ \\psi =\\frac{-\\sqrt{5}+1}{2} $. This depends on what $\\phi$ you choose.\n"
   ]
  },
  {
   "cell_type": "markdown",
   "id": "suspected-forwarding",
   "metadata": {},
   "source": [
    "The first equation  for c gives the following as c \n",
    "\n",
    "$c = \\frac{1}{\\phi-\\psi}$"
   ]
  },
  {
   "cell_type": "code",
   "execution_count": 7,
   "id": "asian-neutral",
   "metadata": {},
   "outputs": [
    {
     "data": {
      "text/html": [
       "<html><script type=\"math/tex; mode=display\">\\newcommand{\\Bold}[1]{\\mathbf{#1}}\\verb|The|\\phantom{\\verb!x!}\\verb|value|\\phantom{\\verb!x!}\\verb|of|\\phantom{\\verb!x!}\\verb|c|\\phantom{\\verb!x!}\\verb|=| -\\frac{1}{5} \\, \\sqrt{5}</script></html>"
      ],
      "text/latex": [
       "\\begin{math}\n",
       "\\newcommand{\\Bold}[1]{\\mathbf{#1}}\\verb|The|\\phantom{\\verb!x!}\\verb|value|\\phantom{\\verb!x!}\\verb|of|\\phantom{\\verb!x!}\\verb|c|\\phantom{\\verb!x!}\\verb|=| -\\frac{1}{5} \\, \\sqrt{5}\n",
       "\\end{math}"
      ],
      "text/plain": [
       "'The value of c =' -1/5*sqrt(5)"
      ]
     },
     "metadata": {},
     "output_type": "display_data"
    },
    {
     "data": {
      "text/html": [
       "<html><script type=\"math/tex; mode=display\">\\newcommand{\\Bold}[1]{\\mathbf{#1}}\\verb|The|\\phantom{\\verb!x!}\\verb|value|\\phantom{\\verb!x!}\\verb|of|\\phantom{\\verb!x!}\\verb|c|\\phantom{\\verb!x!}\\verb|=| \\frac{1}{5} \\, \\sqrt{5}</script></html>"
      ],
      "text/latex": [
       "\\begin{math}\n",
       "\\newcommand{\\Bold}[1]{\\mathbf{#1}}\\verb|The|\\phantom{\\verb!x!}\\verb|value|\\phantom{\\verb!x!}\\verb|of|\\phantom{\\verb!x!}\\verb|c|\\phantom{\\verb!x!}\\verb|=| \\frac{1}{5} \\, \\sqrt{5}\n",
       "\\end{math}"
      ],
      "text/plain": [
       "'The value of c =' 1/5*sqrt(5)"
      ]
     },
     "metadata": {},
     "output_type": "display_data"
    }
   ],
   "source": [
    "# the equation is that \n",
    "var(\"c\")\n",
    "psi = [1/2*sqrt(5) + 1/2, -1/2*sqrt(5) + 1/2]\n",
    "phi_lis = [-1/2*sqrt(5) + 1/2, 1/2*sqrt(5) + 1/2]\n",
    "#show(phi_lis[1])\n",
    "for i  in range(0,2):\n",
    "   show(\"The value of c =\",1/(phi_lis[i]-psi[i]))\n",
    "\n",
    "\n",
    "\n",
    "\n"
   ]
  },
  {
   "cell_type": "markdown",
   "id": "metropolitan-spirituality",
   "metadata": {},
   "source": [
    "So the general formulau takes the form \n",
    "\n",
    "\n",
    "\n",
    "$F_{N} = \\frac{\\sqrt{5}}{5}\\big((\\frac{\\sqrt{5}+1}{ 2})^n - (\\frac{-\\sqrt{5}+1}{2})^n\n",
    "    \\big)$\n",
    "    \n",
    "   "
   ]
  },
  {
   "cell_type": "markdown",
   "id": "selected-programming",
   "metadata": {},
   "source": [
    "Checking the formuale if it  works and verifying for  $F_{n}$"
   ]
  },
  {
   "cell_type": "code",
   "execution_count": 4,
   "id": "subsequent-loading",
   "metadata": {},
   "outputs": [
    {
     "data": {
      "text/plain": [
       "55"
      ]
     },
     "execution_count": 4,
     "metadata": {},
     "output_type": "execute_result"
    }
   ],
   "source": [
    "\n",
    "def F_n(n):\n",
    "    con = 1/sqrt(5)\n",
    "    ps_fn = ((sqrt(5)+1)/ 2)^(n)\n",
    "    phi_fn = ((-sqrt(5)+1)/2)^(n)\n",
    "    return int(con*(ps_fn -phi_fn))\n",
    "F_n(10)"
   ]
  },
  {
   "cell_type": "code",
   "execution_count": null,
   "id": "floral-patio",
   "metadata": {},
   "outputs": [],
   "source": []
  },
  {
   "cell_type": "markdown",
   "id": "activated-accordance",
   "metadata": {},
   "source": [
    "### Report 8"
   ]
  },
  {
   "cell_type": "markdown",
   "id": "representative-cameroon",
   "metadata": {},
   "source": [
    "Compute $F_{n+1}F_{n-1}-(F_{n})^2$ and we use  the functions\n"
   ]
  },
  {
   "cell_type": "code",
   "execution_count": 13,
   "id": "assured-cinema",
   "metadata": {},
   "outputs": [
    {
     "name": "stdout",
     "output_type": "stream",
     "text": [
      "Enter number: 7\n"
     ]
    },
    {
     "data": {
      "text/html": [
       "<html>\\(\\displaystyle \\verb|When|\\verb| |\\verb|n:| 1 \\verb| |\\verb|\t|\\verb| |\\verb|F_{n+1}F_{n-1}-(F_{n}^2|\\verb| |\\verb|=| -1\\)</html>"
      ],
      "text/latex": [
       "$\\displaystyle \\verb|When|\\verb| |\\verb|n:| 1 \\verb| |\\verb|\t|\\verb| |\\verb|F_{n+1}F_{n-1}-(F_{n}^2|\\verb| |\\verb|=| -1$"
      ],
      "text/plain": [
       "'When n:' 1 ' \\t F_{n+1}F_{n-1}-(F_{n}^2 =' -1"
      ]
     },
     "metadata": {},
     "output_type": "display_data"
    },
    {
     "data": {
      "text/html": [
       "<html>\\(\\displaystyle \\verb|When|\\verb| |\\verb|n:| 2 \\verb| |\\verb|\t|\\verb| |\\verb|F_{n+1}F_{n-1}-(F_{n}^2|\\verb| |\\verb|=| 1\\)</html>"
      ],
      "text/latex": [
       "$\\displaystyle \\verb|When|\\verb| |\\verb|n:| 2 \\verb| |\\verb|\t|\\verb| |\\verb|F_{n+1}F_{n-1}-(F_{n}^2|\\verb| |\\verb|=| 1$"
      ],
      "text/plain": [
       "'When n:' 2 ' \\t F_{n+1}F_{n-1}-(F_{n}^2 =' 1"
      ]
     },
     "metadata": {},
     "output_type": "display_data"
    },
    {
     "data": {
      "text/html": [
       "<html>\\(\\displaystyle \\verb|When|\\verb| |\\verb|n:| 3 \\verb| |\\verb|\t|\\verb| |\\verb|F_{n+1}F_{n-1}-(F_{n}^2|\\verb| |\\verb|=| -1\\)</html>"
      ],
      "text/latex": [
       "$\\displaystyle \\verb|When|\\verb| |\\verb|n:| 3 \\verb| |\\verb|\t|\\verb| |\\verb|F_{n+1}F_{n-1}-(F_{n}^2|\\verb| |\\verb|=| -1$"
      ],
      "text/plain": [
       "'When n:' 3 ' \\t F_{n+1}F_{n-1}-(F_{n}^2 =' -1"
      ]
     },
     "metadata": {},
     "output_type": "display_data"
    },
    {
     "data": {
      "text/html": [
       "<html>\\(\\displaystyle \\verb|When|\\verb| |\\verb|n:| 4 \\verb| |\\verb|\t|\\verb| |\\verb|F_{n+1}F_{n-1}-(F_{n}^2|\\verb| |\\verb|=| 1\\)</html>"
      ],
      "text/latex": [
       "$\\displaystyle \\verb|When|\\verb| |\\verb|n:| 4 \\verb| |\\verb|\t|\\verb| |\\verb|F_{n+1}F_{n-1}-(F_{n}^2|\\verb| |\\verb|=| 1$"
      ],
      "text/plain": [
       "'When n:' 4 ' \\t F_{n+1}F_{n-1}-(F_{n}^2 =' 1"
      ]
     },
     "metadata": {},
     "output_type": "display_data"
    },
    {
     "data": {
      "text/html": [
       "<html>\\(\\displaystyle \\verb|When|\\verb| |\\verb|n:| 5 \\verb| |\\verb|\t|\\verb| |\\verb|F_{n+1}F_{n-1}-(F_{n}^2|\\verb| |\\verb|=| -1\\)</html>"
      ],
      "text/latex": [
       "$\\displaystyle \\verb|When|\\verb| |\\verb|n:| 5 \\verb| |\\verb|\t|\\verb| |\\verb|F_{n+1}F_{n-1}-(F_{n}^2|\\verb| |\\verb|=| -1$"
      ],
      "text/plain": [
       "'When n:' 5 ' \\t F_{n+1}F_{n-1}-(F_{n}^2 =' -1"
      ]
     },
     "metadata": {},
     "output_type": "display_data"
    },
    {
     "data": {
      "text/html": [
       "<html>\\(\\displaystyle \\verb|When|\\verb| |\\verb|n:| 6 \\verb| |\\verb|\t|\\verb| |\\verb|F_{n+1}F_{n-1}-(F_{n}^2|\\verb| |\\verb|=| 1\\)</html>"
      ],
      "text/latex": [
       "$\\displaystyle \\verb|When|\\verb| |\\verb|n:| 6 \\verb| |\\verb|\t|\\verb| |\\verb|F_{n+1}F_{n-1}-(F_{n}^2|\\verb| |\\verb|=| 1$"
      ],
      "text/plain": [
       "'When n:' 6 ' \\t F_{n+1}F_{n-1}-(F_{n}^2 =' 1"
      ]
     },
     "metadata": {},
     "output_type": "display_data"
    },
    {
     "data": {
      "text/html": [
       "<html>\\(\\displaystyle \\verb|When|\\verb| |\\verb|n:| 7 \\verb| |\\verb|\t|\\verb| |\\verb|F_{n+1}F_{n-1}-(F_{n}^2|\\verb| |\\verb|=| -1\\)</html>"
      ],
      "text/latex": [
       "$\\displaystyle \\verb|When|\\verb| |\\verb|n:| 7 \\verb| |\\verb|\t|\\verb| |\\verb|F_{n+1}F_{n-1}-(F_{n}^2|\\verb| |\\verb|=| -1$"
      ],
      "text/plain": [
       "'When n:' 7 ' \\t F_{n+1}F_{n-1}-(F_{n}^2 =' -1"
      ]
     },
     "metadata": {},
     "output_type": "display_data"
    }
   ],
   "source": [
    "lis_2 =[]\n",
    "numb =int(input(\"Enter number: \"))\n",
    "\n",
    "for x in range(1,numb+1):\n",
    "    numb = Fibonacci_nu(x+1)*Fibonacci_nu(x-1)-(Fibonacci_nu(x)**2)\n",
    "    lis_2.append(numb) \n",
    "    \n",
    "sum1 = 1\n",
    "for i in lis_2:\n",
    "    show('When n:',sum1,\" \\t F_{n+1}F_{n-1}-(F_{n}^2 =\",i)\n",
    "    sum1 += 1\n"
   ]
  },
  {
   "cell_type": "markdown",
   "id": "durable-failure",
   "metadata": {},
   "source": [
    "The general formulae for  $F_{n+1}F_{n-1}-(F_{n})^2$  ==  $(-1)^n$  where $\\forall_n \\geq 1$"
   ]
  },
  {
   "cell_type": "markdown",
   "id": "following-cathedral",
   "metadata": {},
   "source": [
    "To prove the formalae we use bool"
   ]
  },
  {
   "cell_type": "code",
   "execution_count": 18,
   "id": "diverse-poster",
   "metadata": {},
   "outputs": [
    {
     "data": {
      "text/plain": [
       "True"
      ]
     },
     "execution_count": 18,
     "metadata": {},
     "output_type": "execute_result"
    }
   ],
   "source": [
    "var(\"x\")\n",
    "assume(x>0)\n",
    "\n",
    "con = 1/sqrt(5)\n",
    "for x in range(1,4):\n",
    "\n",
    "    ps_fn = ((sqrt(5)+1)/ 2)^(x+1)\n",
    "    phi_fn = ((-sqrt(5)+1)/2)^(x+1)\n",
    "    firs1 =con*(ps_fn -phi_fn)\n",
    "    \n",
    "    ps_fn1 = ((sqrt(5)+1)/ 2)^(x-1)\n",
    "    phi_fn1 = ((-sqrt(5)+1)/2)^(x-1)\n",
    "    firs2 =con*(ps_fn1 -phi_fn1)\n",
    "    \n",
    "    ps_fn2 = ((sqrt(5)+1)/ 2)^(x)\n",
    "    phi_fn2 = ((-sqrt(5)+1)/2)^(x)\n",
    "    firs3 =(con*(ps_fn2 -phi_fn2))^2\n",
    "    \n",
    "    \n",
    "bool(firs1*firs2-firs3==(-1)^x)\n",
    "    \n"
   ]
  },
  {
   "cell_type": "markdown",
   "id": "correct-enlargement",
   "metadata": {},
   "source": [
    "## Practical 3"
   ]
  },
  {
   "cell_type": "code",
   "execution_count": null,
   "id": "direct-bernard",
   "metadata": {},
   "outputs": [],
   "source": []
  },
  {
   "cell_type": "code",
   "execution_count": null,
   "id": "every-stress",
   "metadata": {},
   "outputs": [],
   "source": []
  }
 ],
 "metadata": {
  "kernelspec": {
   "display_name": "SageMath 9.2",
   "language": "sage",
   "name": "sagemath"
  },
  "language_info": {
   "codemirror_mode": {
    "name": "ipython",
    "version": 3
   },
   "file_extension": ".py",
   "mimetype": "text/x-python",
   "name": "python",
   "nbconvert_exporter": "python",
   "pygments_lexer": "ipython3",
   "version": "3.9.2"
  }
 },
 "nbformat": 4,
 "nbformat_minor": 5
}
