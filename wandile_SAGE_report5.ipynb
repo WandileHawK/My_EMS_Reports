{
 "cells": [
  {
   "cell_type": "markdown",
   "id": "e52d5296",
   "metadata": {},
   "source": [
    "### Report \n",
    "25/October 2022"
   ]
  },
  {
   "cell_type": "code",
   "execution_count": 52,
   "id": "abd3b15a",
   "metadata": {},
   "outputs": [
    {
     "name": "stdout",
     "output_type": "stream",
     "text": [
      "The numbers from 1 to 100 that can be expressed as  a^2 +b^2 are {'1': [(0, 1), (1, 0)], '2': [(1, 1)], '4': [(0, 2), (2, 0)], '5': [(1, 2), (2, 1)], '8': [(2, 2)], '9': [(0, 3), (3, 0)], '10': [(1, 3), (3, 1)], '13': [(2, 3), (3, 2)], '16': [(0, 4), (4, 0)], '17': [(1, 4), (4, 1)], '18': [(3, 3)], '20': [(2, 4), (4, 2)], '25': [(0, 5), (3, 4), (4, 3), (5, 0)], '26': [(1, 5), (5, 1)], '29': [(2, 5), (5, 2)], '32': [(4, 4)], '34': [(3, 5), (5, 3)], '36': [(0, 6), (6, 0)], '37': [(1, 6), (6, 1)], '40': [(2, 6), (6, 2)], '41': [(4, 5), (5, 4)], '45': [(3, 6), (6, 3)], '49': [(0, 7), (7, 0)], '50': [(1, 7), (5, 5), (7, 1)], '52': [(4, 6), (6, 4)], '53': [(2, 7), (7, 2)], '58': [(3, 7), (7, 3)], '61': [(5, 6), (6, 5)], '64': [(0, 8), (8, 0)], '65': [(1, 8), (4, 7), (7, 4), (8, 1)], '68': [(2, 8), (8, 2)], '72': [(6, 6)], '73': [(3, 8), (8, 3)], '74': [(5, 7), (7, 5)], '80': [(4, 8), (8, 4)], '81': [(0, 9), (9, 0)], '82': [(1, 9), (9, 1)], '85': [(2, 9), (6, 7), (7, 6), (9, 2)], '89': [(5, 8), (8, 5)], '90': [(3, 9), (9, 3)], '97': [(4, 9), (9, 4)], '98': [(7, 7)], '100': [(0, 10), (6, 8), (8, 6), (10, 0)]}\n",
      "The dictionary for odd and even: {'1': 'odd', '2': 'even', '4': 'even', '5': 'odd', '8': 'even', '9': 'odd', '10': 'even', '13': 'odd', '16': 'even', '17': 'odd', '18': 'even', '20': 'even', '25': 'odd', '26': 'even', '29': 'odd', '32': 'even', '34': 'even', '36': 'even', '37': 'odd', '40': 'even', '41': 'odd', '45': 'odd', '49': 'odd', '50': 'even', '52': 'even', '53': 'odd', '58': 'even', '61': 'odd', '64': 'even', '65': 'odd', '68': 'even', '72': 'even', '73': 'odd', '74': 'even', '80': 'even', '81': 'odd', '82': 'even', '85': 'odd', '89': 'odd', '90': 'even', '97': 'odd', '98': 'even', '100': 'even'}\n",
      "The dictionary for which a  and b are prime numbers is: {'8': [(2, 2)], '13': [(2, 3), (3, 2)], '18': [(3, 3)], '29': [(2, 5), (5, 2)], '34': [(3, 5), (5, 3)], '50': [(5, 5)], '53': [(2, 7), (7, 2)], '58': [(3, 7), (7, 3)], '74': [(5, 7), (7, 5)], '98': [(7, 7)]}\n"
     ]
    }
   ],
   "source": [
    "numb =  1\n",
    "high_limit = 100\n",
    "#a =  int(input(\"Enter the number a: \"))\n",
    "#b =  int(input(\"Enter the number b: \"))\n",
    "\n",
    "trial_dict = {}\n",
    "dict_num = {}\n",
    "dict_prim  = {}\n",
    "\n",
    "#print(dict_even)\n",
    "i = 0\n",
    "new_List =[]\n",
    "while numb<= high_limit:\n",
    "    List = []\n",
    "    new_List =[]\n",
    "    for x in range(0,high_limit+1):\n",
    "        for y in range(0,high_limit+1):\n",
    "            if (x*x + y*y)==numb :\n",
    "                #print('The x value  is',x,'The y value  is',y,\"for \" ,n)\n",
    "                store = (x,y)\n",
    "                List.append(store)\n",
    "                #print(\"For {} the combination is {}\".format(n,List))\n",
    "                trial_dict[str(numb)] = List\n",
    "                if numb%2 ==0:\n",
    "                    dict_num[str(numb)] = \"even\" \n",
    "                elif numb%2 ==1:\n",
    "                    dict_num[str(numb)] = \"odd\" \n",
    "                    \n",
    "                if is_prime(x) and is_prime(y):\n",
    "                    prime = (x,y)\n",
    "                    new_List.append(prime)\n",
    "                    dict_prim[str(numb)] = new_List \n",
    "                \n",
    "                \n",
    "                \n",
    "                    \n",
    "                  \n",
    "                    \n",
    "\n",
    "    numb += 1\n",
    "\n",
    "    \n",
    "print(\"The numbers from 1 to 100 that can be expressed as  a^2 +b^2 are {}\".format(trial_dict))\n",
    "print('The dictionary for odd and even:',dict_even)\n",
    "print('The dictionary for which a  and b are prime numbers is:',dict_prim)\n",
    "\n"
   ]
  },
  {
   "cell_type": "markdown",
   "id": "owned-fiber",
   "metadata": {},
   "source": [
    "There is another way to get n, The relationship of a,b and n is that $n$ represent the radius(units) of  circle and a,b are the possible values that can be found in the circle circumference. Given $a \\geq 0$ and $b \\geq 0$ and  are integers so  representing the cirle in a grid, the lattice points where the circle meets is our a and b. Its a half circle also in the first and second quadrant."
   ]
  },
  {
   "cell_type": "markdown",
   "id": "expanded-stamp",
   "metadata": {},
   "source": [
    "### Can square roots of numbers be written in any other form aside from $x^2+0$"
   ]
  },
  {
   "cell_type": "code",
   "execution_count": 5,
   "id": "historical-arlington",
   "metadata": {},
   "outputs": [
    {
     "name": "stdout",
     "output_type": "stream",
     "text": [
      "The numbers from 1 to 100 that can be expressed as  a^2 +b^2 are {'1': [(0, 1), (1, 0)], '2': [(1, 1)], '4': [(0, 2), (2, 0)], '5': [(1, 2), (2, 1)], '8': [(2, 2)], '9': [(0, 3), (3, 0)], '10': [(1, 3), (3, 1)], '13': [(2, 3), (3, 2)], '16': [(0, 4), (4, 0)], '17': [(1, 4), (4, 1)], '18': [(3, 3)], '20': [(2, 4), (4, 2)], '25': [(0, 5), (3, 4), (4, 3), (5, 0)], '26': [(1, 5), (5, 1)], '29': [(2, 5), (5, 2)], '32': [(4, 4)], '34': [(3, 5), (5, 3)], '36': [(0, 6), (6, 0)], '37': [(1, 6), (6, 1)], '40': [(2, 6), (6, 2)], '41': [(4, 5), (5, 4)], '45': [(3, 6), (6, 3)], '49': [(0, 7), (7, 0)], '50': [(1, 7), (5, 5), (7, 1)], '52': [(4, 6), (6, 4)], '53': [(2, 7), (7, 2)], '58': [(3, 7), (7, 3)], '61': [(5, 6), (6, 5)], '64': [(0, 8), (8, 0)], '65': [(1, 8), (4, 7), (7, 4), (8, 1)], '68': [(2, 8), (8, 2)], '72': [(6, 6)], '73': [(3, 8), (8, 3)], '74': [(5, 7), (7, 5)], '80': [(4, 8), (8, 4)], '81': [(0, 9), (9, 0)], '82': [(1, 9), (9, 1)], '85': [(2, 9), (6, 7), (7, 6), (9, 2)], '89': [(5, 8), (8, 5)], '90': [(3, 9), (9, 3)], '97': [(4, 9), (9, 4)], '98': [(7, 7)], '100': [(0, 10), (6, 8), (8, 6), (10, 0)]}\n",
      "The numbers expressed as x^2 + 0 \n"
     ]
    }
   ],
   "source": [
    "      \n",
    "numb =  1\n",
    "high_limit = 100\n",
    "#a =  int(input(\"Enter the number a: \"))\n",
    "#b =  int(input(\"Enter the number b: \"))\n",
    "\n",
    "trial_dict = {}\n",
    "dict_num = {}\n",
    "dict_prim  = {}\n",
    "\n",
    "#print(dict_even)\n",
    "i = 0\n",
    "new_List =[]\n",
    "while numb<= high_limit:\n",
    "    List = []\n",
    "    new_List =[]\n",
    "    for x in range(0,high_limit+1):\n",
    "        for y in range(0,high_limit+1):\n",
    "            if (x*x + y*y)==numb :\n",
    "                store = (x,y)\n",
    "                List.append(store)\n",
    "                #print(\"For {} the combination is {}\".format(n,List))\n",
    "                trial_dict[str(numb)] = List\n",
    "                if x ==0 or y==0:\n",
    "                    square_num = (x,y)\n",
    "                    new_List.append(square_num)\n",
    "                    dict_num[str(numb)] = new_List\n",
    "                                        \n",
    "                 \n",
    "                    \n",
    "               \n",
    "            \n",
    "                \n",
    "                    \n",
    "                  \n",
    "                    \n",
    "\n",
    "    numb += 1\n",
    "\n",
    "    \n",
    "print(\"The numbers from 1 to 100 that can be expressed as  a^2 +b^2 are {}\".format(trial_dict))  \n",
    "    \n",
    "print(\"The numbers expressed as x^2 + 0 \".format(dict_num)) \n"
   ]
  },
  {
   "cell_type": "markdown",
   "id": "internal-active",
   "metadata": {},
   "source": [
    "The number  here are sqaure numbers, so can square numbers be expressed as $a^2 +b^2$ where a,b are neither  zero."
   ]
  },
  {
   "cell_type": "code",
   "execution_count": 1,
   "id": "conceptual-budget",
   "metadata": {},
   "outputs": [
    {
     "name": "stdout",
     "output_type": "stream",
     "text": [
      "[1, 4, 9, 16, 25, 36, 49, 64, 81, 100, 121, 144, 169, 196, 225]\n",
      "{'25': [(4, 3)], '169': [(12, 5)], '100': [(8, 6)], '225': [(12, 9)]}\n"
     ]
    }
   ],
   "source": [
    "import math as ma\n",
    "lis= []\n",
    "high = 15\n",
    "for i in range(1,high+1):\n",
    "    sqaure_nu =i*i\n",
    "    lis.append(sqaure_nu)\n",
    "print(lis)\n",
    "\n",
    "dic ={}\n",
    "n =  1\n",
    "number =  100\n",
    "store_num = []\n",
    "while n <= number:\n",
    "    store_num = []\n",
    "    for x in range(1,high+1):\n",
    "        for y in range(1,high+1):\n",
    "            i = 0\n",
    "            store_num =[]\n",
    "            while i < len(lis): \n",
    "                if (x*x+y*y)==lis[i]:\n",
    "                    #print(lis[i])\n",
    "                    #print(n, \"is possible with\",int(ma.sqrt(x)),  int(ma.sqrt(y)))\n",
    "                    store = (x,y)\n",
    "                    store_num.append(store)\n",
    "                    dic[str(lis[i])] = store_num\n",
    "                i +=1\n",
    "                    #print(n)\n",
    "    \n",
    "\n",
    "    n += 1\n",
    "print(dic)\n",
    "    "
   ]
  },
  {
   "cell_type": "markdown",
   "id": "wrong-brazilian",
   "metadata": {},
   "source": [
    "This code shows the square numbers that can be expressed as a,b given that both a and b are not 0"
   ]
  },
  {
   "cell_type": "markdown",
   "id": "speaking-yukon",
   "metadata": {},
   "source": [
    "### Positive integers that can be written as a sum  of squares of its factors"
   ]
  },
  {
   "cell_type": "code",
   "execution_count": null,
   "id": "lyric-belly",
   "metadata": {},
   "outputs": [],
   "source": [
    "\n",
    "High_numb = int(input(\"N = \"))\n",
    "\n",
    "\n",
    "dict_factor = {}\n",
    "\n",
    "\n",
    "numb = 0\n",
    "\n",
    "while numb <= High_numb:\n",
    "    \n",
    "    # Create an empty list,l\n",
    "    empty_list= []\n",
    "    for x in range(1,numb+1):\n",
    "        for y in range(1,numb+1):\n",
    "            if numb == (x**2) + (y**2):\n",
    "                try:\n",
    "                    if numb % x == 0 and numb%y ==0:\n",
    "                        empty_list.append((x,y))\n",
    "                        dict_factor[numb] =  empty_list\n",
    "                    \n",
    "                except:\n",
    "                      print(\"0 is not a factor of {}\".format(numb))\n",
    "\n",
    "    numb += 1\n",
    "print(dict_factor)"
   ]
  },
  {
   "cell_type": "code",
   "execution_count": null,
   "id": "c2b97ae9",
   "metadata": {},
   "outputs": [],
   "source": []
  }
 ],
 "metadata": {
  "kernelspec": {
   "display_name": "SageMath 9.2",
   "language": "sage",
   "name": "sagemath"
  },
  "language_info": {
   "codemirror_mode": {
    "name": "ipython",
    "version": 3
   },
   "file_extension": ".py",
   "mimetype": "text/x-python",
   "name": "python",
   "nbconvert_exporter": "python",
   "pygments_lexer": "ipython3",
   "version": "3.9.2"
  }
 },
 "nbformat": 4,
 "nbformat_minor": 5
}
