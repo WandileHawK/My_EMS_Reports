{
 "cells": [
  {
   "cell_type": "markdown",
   "id": "e52d5296",
   "metadata": {},
   "source": [
    "### Report \n",
    "20/October -24/October 2022"
   ]
  },
  {
   "cell_type": "markdown",
   "id": "ba88f9fb",
   "metadata": {},
   "source": [
    "### Thursday\n",
    "\n",
    "The proposition  was $\\forall_n \\in \\mathbb{Z}$  n = ya + nb implies  that gcd(a,b)/. This was for the case of $a,b> 0$.n \n",
    "The Euclide Division was introduced  to check also if its possible for express the numbers a  linear combination of the of a,b. Euclide division  states that;\n",
    "\n",
    "We said that if the gcd(a,b) = 1 its possible to write all numbers as linear combination of a,b\n",
    "\n",
    "a,b $\\in \\mathbb{Z}, b \\geq 0$\\\n",
    "a = qb+r  given that\n",
    "\n",
    "$0 \\leq r \\geq b$\n",
    "\n",
    "So using the euclidean we can find the gcd of any number and check if its 1. The  exapmle is gcd(30,7) and using the euclide division its\n",
    "\n",
    "$30 =  4*7 +2$\n",
    "\n",
    "$ 7 = 3*2 +1$\n",
    "\n",
    "\n",
    "$2 = 1*2+0$\n",
    "\n",
    "The gcd for a=30 and b = 7 is 1 thus can be express  as a linear combination of all numbers. I implemented a code that can find the gcd of any number and the following code"
   ]
  },
  {
   "cell_type": "code",
   "execution_count": 13,
   "id": "ef452c80",
   "metadata": {},
   "outputs": [
    {
     "name": "stdout",
     "output_type": "stream",
     "text": [
      "1\n"
     ]
    }
   ],
   "source": [
    "def greatest_common(a,b):\n",
    "    if b != 0:\n",
    "        rem = a%b  #find the remainder\n",
    "        a=b        #store a in to b\n",
    "        b=rem\n",
    "        return greatest_common(a,b)\n",
    "    print(a)\n",
    "greatest_common(11,10)"
   ]
  },
  {
   "cell_type": "markdown",
   "id": "fda4acbf",
   "metadata": {},
   "source": [
    "Its worth noting that in the code is base the fact the gcd(a,b)=gcd(b,rem of a/b) = gcd( rem a/b, rem  of( b/ rem of  a/b )and so on. Rem here stands fro remainder.\n",
    "\n",
    "for example for gcd(30,7)=gcd(7,2) = gcd(2,1) = 1\n",
    "\n",
    "We then did backward substition.\n",
    "\n",
    "### Sum of squares\n",
    "The question was how many number can be expressed as $ a^2 + b^2 $ given that a,b >0. \n",
    "\n",
    "So for examples i did:\n",
    "\n",
    "\n",
    "3.  $\\hspace{0.3cm}$3 can not work\n",
    "4.  $\\hspace{0.3cm}$4 can not work\n",
    "5.  $\\hspace{0.3cm}5=2^2+1^2$\n",
    "6.  $\\hspace{0.3cm}$6 can not work\n",
    "7.  $\\hspace{0.3cm}$7 can not work\n",
    "8.  $\\hspace{0.3cm}8=2^2+2^2$\n",
    "9.  $\\hspace{0.3cm}$9 can not work\n",
    "10. $\\hspace{0.3cm}10=3^2+1^2$\n",
    "11. $\\hspace{0.3cm}$11 can not work\n",
    "12. $\\hspace{0.3cm}$12 can not work\n",
    "13. $\\hspace{0.3cm}13=3^2+2^2$\n",
    "14. $\\hspace{0.3cm}$14 can not work\n",
    "15. $\\hspace{0.3cm}$15 can not work\n",
    "16. $\\hspace{0.3cm}$16 can not work\n",
    "17. $\\hspace{0.3cm}17=4^2+1^1$\n",
    "18. $\\hspace{0.3cm}18=3^2+3^2$\n",
    "19. $\\hspace{0.3cm}$19 can not work\n",
    "20. $\\hspace{0.3cm}20=4^2+2^2$\n",
    "21. $\\hspace{0.3cm}$21 can not work\n",
    "22. $\\hspace{0.3cm}$22 can not work\n",
    "23. $\\hspace{0.3cm}$ can not work\n",
    "24. $\\hspace{0.3cm}$24 cannot work\n",
    "25. $\\hspace{0.3cm}25= 4^2+3^2$\n",
    "26. $\\hspace{0.3cm}26=5^2+1^2$\n",
    "27. $\\hspace{0.3cm}$27 can not work\n",
    "28. $\\hspace{0.3cm}$28 can not work\n",
    "29. $\\hspace{0.3cm}29= 5^2$\n",
    "\n",
    "The first conjecture is if for a=b  then for n  to be the sum of  $ a^2 + b^2 , a^2$ or $b^b$ should be a square number.. for example\\\n",
    "\n",
    "$2  =  1^2 + 1^2$\n",
    "\n",
    "\n",
    "$ 98 =  7^2 + 7^2 $\n",
    "\n",
    "\n",
    "\n",
    "\n",
    "ThE code is for generating the numbers possible "
   ]
  },
  {
   "cell_type": "code",
   "execution_count": 6,
   "id": "abd3b15a",
   "metadata": {},
   "outputs": [
    {
     "name": "stdout",
     "output_type": "stream",
     "text": [
      "[1, 4, 9, 16, 25, 36, 49, 64, 81, 100]\n",
      "{2: (1, 1), 5: (2, 1), 8: (2, 2), 10: (3, 1), 13: (3, 2), 17: (4, 1), 18: (3, 3), 20: (4, 2), 25: (4, 3), 26: (5, 1), 29: (5, 2), 32: (4, 4), 34: (5, 3), 37: (6, 1), 40: (6, 2), 41: (5, 4), 45: (6, 3), 50: (7, 1), 52: (6, 4), 53: (7, 2), 58: (7, 3), 61: (6, 5), 65: (8, 1), 68: (8, 2), 72: (6, 6), 73: (8, 3), 74: (7, 5), 80: (8, 4), 82: (9, 1), 85: (9, 2), 89: (8, 5), 90: (9, 3), 97: (9, 4), 98: (7, 7), 100: (8, 6)}\n"
     ]
    }
   ],
   "source": [
    "import math as ma\n",
    "lis= []\n",
    "for i in range(1,11):\n",
    "    sqaure_nu =i*i\n",
    "    lis.append(sqaure_nu)\n",
    "print(lis)\n",
    "dic ={}\n",
    "n =  1\n",
    "store = []\n",
    "while n <= 100:\n",
    "    for i in lis:\n",
    "        if  i < n:\n",
    "            store.append(i)\n",
    "             \n",
    "    for x in store:\n",
    "        for y in store:\n",
    "            if (x+y)==n:\n",
    "                #print(n, \"is possible with\",int(ma.sqrt(x)),  int(ma.sqrt(y)))\n",
    "                dic[n] = (int(ma.sqrt(x)),int(ma.sqrt(y)))\n",
    "                \n",
    "                #print(n)\n",
    "    \n",
    "    store = []\n",
    "    n += 1\n",
    "print(dic)"
   ]
  },
  {
   "cell_type": "code",
   "execution_count": 11,
   "id": "illegal-estate",
   "metadata": {},
   "outputs": [
    {
     "data": {
      "text/plain": [
       "22"
      ]
     },
     "execution_count": 11,
     "metadata": {},
     "output_type": "execute_result"
    }
   ],
   "source": []
  },
  {
   "cell_type": "code",
   "execution_count": null,
   "id": "severe-preparation",
   "metadata": {},
   "outputs": [],
   "source": []
  }
 ],
 "metadata": {
  "kernelspec": {
   "display_name": "SageMath 9.2",
   "language": "sage",
   "name": "sagemath"
  },
  "language_info": {
   "codemirror_mode": {
    "name": "ipython",
    "version": 3
   },
   "file_extension": ".py",
   "mimetype": "text/x-python",
   "name": "python",
   "nbconvert_exporter": "python",
   "pygments_lexer": "ipython3",
   "version": "3.9.2"
  }
 },
 "nbformat": 4,
 "nbformat_minor": 5
}
